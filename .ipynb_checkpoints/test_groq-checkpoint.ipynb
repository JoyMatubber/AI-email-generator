{
 "cells": [
  {
   "cell_type": "code",
   "execution_count": 11,
   "id": "91819be1-4878-4c3d-a6be-730f93b6ade0",
   "metadata": {},
   "outputs": [
    {
     "name": "stdout",
     "output_type": "stream",
     "text": [
      "content='The first person to land on the moon was Neil Armstrong. He stepped out of the lunar module Eagle and onto the moon\\'s surface on July 20, 1969, during the Apollo 11 mission. Armstrong famously declared, \"That\\'s one small step for man, one giant leap for mankind,\" as he became the first human to set foot on the moon.' additional_kwargs={} response_metadata={'token_usage': {'completion_tokens': 75, 'prompt_tokens': 44, 'total_tokens': 119, 'completion_time': 0.272727273, 'prompt_time': 0.007554149, 'queue_time': 0.7862732640000001, 'total_time': 0.280281422}, 'model_name': 'llama-3.3-70b-versatile', 'system_fingerprint': 'fp_3884478861', 'finish_reason': 'stop', 'logprobs': None} id='run-b9a069dd-c790-4d91-8afd-593bac4c5cb4-0' usage_metadata={'input_tokens': 44, 'output_tokens': 75, 'total_tokens': 119}\n",
      "okoke\n"
     ]
    }
   ],
   "source": [
    "from langchain_groq import ChatGroq\n",
    "\n",
    "llm = ChatGroq(\n",
    "    temperature=0, \n",
    "    groq_api_key='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', \n",
    "    model_name=\"llama-3.3-70b-versatile\"\n",
    ")\n",
    "\n",
    "response = llm.invoke(\"The first person to land on moon was ...\")\n",
    "print(response)\n",
    "print(\"okoke\")"
   ]
  },
  {
   "cell_type": "raw",
   "id": "59a28017-34a5-48d2-9291-3d9b9fc68f87",
   "metadata": {},
   "source": []
  },
  {
   "cell_type": "code",
   "execution_count": null,
   "id": "60be997c-1d41-488e-acac-8759a14d5aed",
   "metadata": {},
   "outputs": [],
   "source": []
  }
 ],
 "metadata": {
  "kernelspec": {
   "display_name": "Python 3 (ipykernel)",
   "language": "python",
   "name": "python3"
  },
  "language_info": {
   "codemirror_mode": {
    "name": "ipython",
    "version": 3
   },
   "file_extension": ".py",
   "mimetype": "text/x-python",
   "name": "python",
   "nbconvert_exporter": "python",
   "pygments_lexer": "ipython3",
   "version": "3.12.4"
  }
 },
 "nbformat": 4,
 "nbformat_minor": 5
}
