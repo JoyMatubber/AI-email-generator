{
 "cells": [
  {
   "cell_type": "code",
   "execution_count": 3,
   "id": "91819be1-4878-4c3d-a6be-730f93b6ade0",
   "metadata": {},
   "outputs": [
    {
     "name": "stdout",
     "output_type": "stream",
     "text": [
      "I'm just a language model, I don't have personal preferences or feelings, but I can provide information about both cats and dogs if you're interested! Many people enjoy the companionship of both cats and dogs, and each has its unique characteristics and advantages. Would you like to know more about one or both of these popular pets?\n"
     ]
    }
   ],
   "source": [
    "from langchain_groq import ChatGroq\n",
    "\n",
    "llm = ChatGroq(\n",
    "    temperature=0, \n",
    "    groq_api_key='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', \n",
    "    model_name=\"llama-3.3-70b-versatile\"\n",
    ")\n",
    "\n",
    "response = llm.invoke(\"Do you like cats or dogs?\")\n",
    "print(response.content)\n"
   ]
  },
  {
   "cell_type": "raw",
   "id": "59a28017-34a5-48d2-9291-3d9b9fc68f87",
   "metadata": {},
   "source": []
  },
  {
   "cell_type": "code",
   "execution_count": null,
   "id": "60be997c-1d41-488e-acac-8759a14d5aed",
   "metadata": {},
   "outputs": [],
   "source": []
  }
 ],
 "metadata": {
  "kernelspec": {
   "display_name": "Python 3",
   "language": "python",
   "name": "python3"
  },
  "language_info": {
   "codemirror_mode": {
    "name": "ipython",
    "version": 3
   },
   "file_extension": ".py",
   "mimetype": "text/x-python",
   "name": "python",
   "nbconvert_exporter": "python",
   "pygments_lexer": "ipython3",
   "version": "3.12.4"
  }
 },
 "nbformat": 4,
 "nbformat_minor": 5
}
